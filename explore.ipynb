{
 "cells": [
  {
   "cell_type": "code",
   "execution_count": 1,
   "id": "87384b62-790f-4e50-a787-e2f113659c48",
   "metadata": {},
   "outputs": [],
   "source": [
    "import pandas as pd\n",
    "import os"
   ]
  },
  {
   "cell_type": "code",
   "execution_count": 2,
   "id": "e51aa41e-62ff-45ba-9ac4-c847d4db33c7",
   "metadata": {},
   "outputs": [
    {
     "data": {
      "text/plain": [
       "['CDC_QA.csv', 'CancerGov_QA.csv']"
      ]
     },
     "execution_count": 2,
     "metadata": {},
     "output_type": "execute_result"
    }
   ],
   "source": [
    "os.listdir(\"../results\")"
   ]
  },
  {
   "cell_type": "code",
   "execution_count": 3,
   "id": "028cd98d-c2e8-47d5-8128-5468599b9cfb",
   "metadata": {},
   "outputs": [],
   "source": [
    "df = pd.read_csv(\"../results/CancerGov_QA.csv\")\n",
    "df = df[['input_readability','output_readability']]"
   ]
  },
  {
   "cell_type": "code",
   "execution_count": 4,
   "id": "13e372ec",
   "metadata": {},
   "outputs": [
    {
     "data": {
      "text/plain": [
       "10.16554054054054"
      ]
     },
     "execution_count": 4,
     "metadata": {},
     "output_type": "execute_result"
    }
   ],
   "source": [
    "CGOV_mean = df['input_readability'].mean()\n",
    "CGOV_mean"
   ]
  },
  {
   "cell_type": "code",
   "execution_count": 5,
   "id": "bafc21b3-db4a-48c2-ac96-abb8e8384b8f",
   "metadata": {},
   "outputs": [
    {
     "data": {
      "text/plain": [
       "8.319256756756756"
      ]
     },
     "execution_count": 5,
     "metadata": {},
     "output_type": "execute_result"
    }
   ],
   "source": [
    "Converted_mean = df['output_readability'].mean()\n",
    "Converted_mean"
   ]
  },
  {
   "cell_type": "code",
   "execution_count": null,
   "id": "7d291998-3b79-4a5d-8130-bd5a3615a479",
   "metadata": {},
   "outputs": [],
   "source": []
  }
 ],
 "metadata": {
  "kernelspec": {
   "display_name": "Python 3 (ipykernel)",
   "language": "python",
   "name": "python3"
  },
  "language_info": {
   "codemirror_mode": {
    "name": "ipython",
    "version": 3
   },
   "file_extension": ".py",
   "mimetype": "text/x-python",
   "name": "python",
   "nbconvert_exporter": "python",
   "pygments_lexer": "ipython3",
   "version": "3.8.5"
  }
 },
 "nbformat": 4,
 "nbformat_minor": 5
}
